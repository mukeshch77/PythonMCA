{
 "cells": [
  {
   "cell_type": "code",
   "execution_count": 2,
   "id": "c999acfb",
   "metadata": {},
   "outputs": [
    {
     "name": "stdout",
     "output_type": "stream",
     "text": [
      "1515906460400 1515906460400 1515906460400 \n",
      "\n"
     ]
    }
   ],
   "source": [
    "\n",
    "    a=b=c=-457\n",
    "    print(id(a),end=\" \")\n",
    "    print(id(b),end=\" \")\n",
    "    print(id(c),end=\" \")\n",
    "    print()\n",
    "    print()\n"
   ]
  },
  {
   "cell_type": "code",
   "execution_count": 3,
   "id": "3c8caf53",
   "metadata": {},
   "outputs": [
    {
     "name": "stdout",
     "output_type": "stream",
     "text": [
      "4 X 1 = 4\n",
      "4 X 2 = 8\n",
      "4 X 3 = 12\n",
      "4 X 4 = 16\n",
      "4 X 5 = 20\n",
      "4 X 6 = 24\n",
      "4 X 7 = 28\n",
      "4 X 8 = 32\n",
      "4 X 9 = 36\n",
      "4 X 10 = 40\n"
     ]
    }
   ],
   "source": [
    "a=int(input(\"enter num\"))\n",
    "for i in range(1,11):\n",
    "    print(a,\"X\",i,\"=\",a*i)"
   ]
  },
  {
   "cell_type": "code",
   "execution_count": 5,
   "id": "e29fd64d",
   "metadata": {},
   "outputs": [],
   "source": [
    "def printTable(num):\n",
    "    for i in range(1,11):\n",
    "        print(num,\"X\",i,\"=\",num*i)"
   ]
  },
  {
   "cell_type": "code",
   "execution_count": 6,
   "id": "1912e468",
   "metadata": {},
   "outputs": [
    {
     "name": "stdout",
     "output_type": "stream",
     "text": [
      "6 X 1 = 6\n",
      "6 X 2 = 12\n",
      "6 X 3 = 18\n",
      "6 X 4 = 24\n",
      "6 X 5 = 30\n",
      "6 X 6 = 36\n",
      "6 X 7 = 42\n",
      "6 X 8 = 48\n",
      "6 X 9 = 54\n",
      "6 X 10 = 60\n"
     ]
    }
   ],
   "source": [
    "printTable(6)"
   ]
  },
  {
   "cell_type": "code",
   "execution_count": 9,
   "id": "259296d7",
   "metadata": {},
   "outputs": [],
   "source": [
    "# wap that give sum avg min and max of all the input argument"
   ]
  },
  {
   "cell_type": "code",
   "execution_count": 7,
   "id": "5442b0d7",
   "metadata": {},
   "outputs": [
    {
     "name": "stdout",
     "output_type": "stream",
     "text": [
      "numbers :  [6, 4, 5, 7, 8, 5, 4]\n",
      "sum of numbers :  39\n",
      "average :  5.571428571428571\n",
      "minimum value :  4\n",
      "maximum value :  8\n"
     ]
    }
   ],
   "source": [
    "\n",
    "a=[]\n",
    "size=int(input(\"enter size of array : \"))\n",
    "for i in range(0,size):\n",
    "    num=int(input(\"enter the numbers:\"))\n",
    "    a.append(num)\n",
    "print(\"numbers : \",a)\n",
    "# length=a.len()\n",
    "\n",
    "def sum1(a):\n",
    "    sum=0\n",
    "    for i in range(0,size):\n",
    "        sum=sum+a[i]\n",
    "    print(\"sum of numbers : \",sum)\n",
    "    return sum\n",
    "   \n",
    "\n",
    "summ=sum1(a) \n",
    "def average(sum):\n",
    "    average=sum/size\n",
    "    print(\"average : \",average)\n",
    "\n",
    "def min_max(a):\n",
    "    print(\"minimum value : \",min(a))\n",
    "    print(\"maximum value : \",max(a))\n",
    "\n",
    "average(summ)\n",
    "min_max(a)"
   ]
  },
  {
   "cell_type": "code",
   "execution_count": null,
   "id": "f8fd1245",
   "metadata": {},
   "outputs": [],
   "source": []
  }
 ],
 "metadata": {
  "kernelspec": {
   "display_name": "Python 3",
   "language": "python",
   "name": "python3"
  },
  "language_info": {
   "codemirror_mode": {
    "name": "ipython",
    "version": 3
   },
   "file_extension": ".py",
   "mimetype": "text/x-python",
   "name": "python",
   "nbconvert_exporter": "python",
   "pygments_lexer": "ipython3",
   "version": "3.12.7"
  }
 },
 "nbformat": 4,
 "nbformat_minor": 5
}
