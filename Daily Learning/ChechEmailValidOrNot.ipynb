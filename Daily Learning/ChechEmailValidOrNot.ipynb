{
 "cells": [
  {
   "cell_type": "markdown",
   "metadata": {},
   "source": [
    "### Write a program that take list of emails and print wether is valid or in valide."
   ]
  },
  {
   "cell_type": "code",
   "execution_count": 1,
   "metadata": {},
   "outputs": [
    {
     "name": "stdout",
     "output_type": "stream",
     "text": [
      "thrjr@gmail.com is valid.\n",
      "thrj222r@gmail.com is valid.\n",
      "thrj r@gmail.com is invalid.\n",
      "thrjr@gmail.com is valid.\n",
      "thr\n",
      "jr@gmail.com is invalid.\n",
      "thrjr@gmail.com is valid.\n"
     ]
    }
   ],
   "source": [
    "import re\n",
    "\n",
    "def is_valid_email(email):\n",
    "    pattern = r'^[a-zA-Z0-9._%+-]+@[a-zA-Z0-9.-]+\\.[a-zA-Z]{2,}'\n",
    "    if re.match(pattern, email):\n",
    "        return True\n",
    "    else:\n",
    "        return False\n",
    "\n",
    "\n",
    "emails=[\"thrjr@gmail.com\", \"thrj222r@gmail.com\", \"thrj r@gmail.com\", \"thrjr@gmail.com\", \"thr\\njr@gmail.com\", \"thrjr@gmail.com\"]\n",
    "\n",
    "for email in emails:\n",
    "    if is_valid_email(email):\n",
    "            print(f\"{email} is valid.\")\n",
    "    else:\n",
    "            print(f\"{email} is invalid.\")"
   ]
  },
  {
   "cell_type": "code",
   "execution_count": null,
   "metadata": {},
   "outputs": [],
   "source": []
  }
 ],
 "metadata": {
  "kernelspec": {
   "display_name": "Python 3",
   "language": "python",
   "name": "python3"
  },
  "language_info": {
   "codemirror_mode": {
    "name": "ipython",
    "version": 3
   },
   "file_extension": ".py",
   "mimetype": "text/x-python",
   "name": "python",
   "nbconvert_exporter": "python",
   "pygments_lexer": "ipython3",
   "version": "3.12.7"
  }
 },
 "nbformat": 4,
 "nbformat_minor": 2
}
