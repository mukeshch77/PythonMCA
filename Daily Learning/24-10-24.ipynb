{
 "cells": [
  {
   "cell_type": "markdown",
   "id": "6e7b7da8-aaec-4f40-8dc0-dc5f7c43c022",
   "metadata": {},
   "source": [
    "### Regular expressions are used to search, match, and manipulate text. They consist of patterns that describe sets of strings. Example:"
   ]
  },
  {
   "cell_type": "code",
   "execution_count": 1,
   "id": "5c1137ff-f8ca-4fc0-b025-0b6f8fa35dbb",
   "metadata": {},
   "outputs": [
    {
     "name": "stdout",
     "output_type": "stream",
     "text": [
      "Match found: hello\n"
     ]
    }
   ],
   "source": [
    "import re\n",
    "\n",
    "pattern = r\"hello\"\n",
    "text = \"hello world\"\n",
    "match = re.search(pattern, text)\n",
    "print(\"Match found:\", match.group() if match else \"No match\")"
   ]
  },
  {
   "cell_type": "code",
   "execution_count": 2,
   "id": "b596d42e-b770-4d3c-adf3-1de09ded97b6",
   "metadata": {},
   "outputs": [
    {
     "name": "stdout",
     "output_type": "stream",
     "text": [
      "Match found: cat\n"
     ]
    }
   ],
   "source": [
    "pattern = r\"cat\"\n",
    "text = \"The cat sat on the mat.\"\n",
    "match = re.search(pattern, text)\n",
    "print(\"Match found:\", match.group() if match else \"No match\")"
   ]
  },
  {
   "cell_type": "code",
   "execution_count": 3,
   "id": "690c44b8-8898-468b-8fbe-3d67dadcb414",
   "metadata": {},
   "outputs": [
    {
     "name": "stdout",
     "output_type": "stream",
     "text": [
      "Match found: cgt\n"
     ]
    }
   ],
   "source": [
    "pattern = r\"c.t\"\n",
    "text = \"The cgt sat cat.\"\n",
    "match = re.search(pattern, text)\n",
    "print(\"Match found:\", match.group() if match else \"No match\")"
   ]
  },
  {
   "cell_type": "markdown",
   "id": "babdefd1-5132-45e0-8a88-d28c6eeddb41",
   "metadata": {},
   "source": [
    "### [A-Z]: Matches any uppercase letter \n",
    "[0-9]: Matches any digit"
   ]
  },
  {
   "cell_type": "code",
   "execution_count": 4,
   "id": "61a0ec66-60bd-4266-afcd-11f4cf1989ec",
   "metadata": {},
   "outputs": [
    {
     "name": "stdout",
     "output_type": "stream",
     "text": [
      "Matches found: ['e', 'l', 'l', 'o', 'o', 'r', 'l', 'd']\n"
     ]
    }
   ],
   "source": [
    "pattern = r\"[a-z]\"\n",
    "text = \"Hello World 123\"\n",
    "matches = re.findall(pattern, text)\n",
    "print(\"Matches found:\", matches)"
   ]
  },
  {
   "cell_type": "code",
   "execution_count": 5,
   "id": "3cf37a00-441b-4886-885e-d4f2fe17f30f",
   "metadata": {},
   "outputs": [
    {
     "name": "stdout",
     "output_type": "stream",
     "text": [
      "Matches found: ['ello', 'orld']\n"
     ]
    }
   ],
   "source": [
    "pattern = r\"[a-z]+\"\n",
    "text = \"Hello World 123\"\n",
    "matches = re.findall(pattern, text)\n",
    "print(\"Matches found:\", matches)"
   ]
  },
  {
   "cell_type": "code",
   "execution_count": 6,
   "id": "efa54f1b-2eba-4c2c-8169-121ab66abc00",
   "metadata": {},
   "outputs": [
    {
     "name": "stdout",
     "output_type": "stream",
     "text": [
      "Matches found: ['H', 'W', 'R', 'A']\n"
     ]
    }
   ],
   "source": [
    "pattern = r\"[A-Z]\"\n",
    "text = \"Hello World 123 RAj\"\n",
    "matches = re.findall(pattern, text)\n",
    "print(\"Matches found:\", matches)"
   ]
  },
  {
   "cell_type": "code",
   "execution_count": 7,
   "id": "4673f92b-5e8d-4b5f-a2e5-7f0747e7ac20",
   "metadata": {},
   "outputs": [
    {
     "name": "stdout",
     "output_type": "stream",
     "text": [
      "Matches found: ['H', 'W', 'RA']\n"
     ]
    }
   ],
   "source": [
    "pattern = r\"[A-Z]+\"\n",
    "text = \"Hello World 123 RAj\"\n",
    "matches = re.findall(pattern, text)\n",
    "print(\"Matches found:\", matches)"
   ]
  },
  {
   "cell_type": "code",
   "execution_count": 8,
   "id": "bada8417-dcf2-477a-96d0-d084860e5491",
   "metadata": {},
   "outputs": [
    {
     "name": "stdout",
     "output_type": "stream",
     "text": [
      "Matches found: ['H', 'W', 'RA']\n"
     ]
    }
   ],
   "source": [
    "pattern = r\"[A-Z]+\"\n",
    "text = \"Hello World /d RAj\"\n",
    "matches = re.findall(pattern, text)\n",
    "print(\"Matches found:\", matches)"
   ]
  },
  {
   "cell_type": "markdown",
   "id": "799543d1-c797-4e55-90f6-9c1fa7d70303",
   "metadata": {},
   "source": [
    "### \\d is used to match number in text"
   ]
  },
  {
   "cell_type": "code",
   "execution_count": 9,
   "id": "db605664-051a-43b5-b963-422039221051",
   "metadata": {},
   "outputs": [
    {
     "name": "stdout",
     "output_type": "stream",
     "text": [
      "Matches found: ['1', '2', '3', '4', '5', '6', '1', '2', '5', '8', '7']\n"
     ]
    }
   ],
   "source": [
    "pattern = r\"\\d\"\n",
    "text = \"Hello World 123 RAj 4561 2587\"\n",
    "matches = re.findall(pattern, text)\n",
    "print(\"Matches found:\", matches)"
   ]
  },
  {
   "cell_type": "code",
   "execution_count": 10,
   "id": "0f2592ed-6b0a-458f-a626-3504a0be058e",
   "metadata": {},
   "outputs": [
    {
     "name": "stdout",
     "output_type": "stream",
     "text": [
      "Matches found: ['123', '4561', '2587']\n"
     ]
    }
   ],
   "source": [
    "pattern = r\"\\d+\"\n",
    "text = \"Hello World 123 RAj 4561 2587\"\n",
    "matches = re.findall(pattern, text)\n",
    "print(\"Matches found:\", matches)"
   ]
  },
  {
   "cell_type": "code",
   "execution_count": 11,
   "id": "8be0e517-2ab8-4e57-9c68-83d05ec60d54",
   "metadata": {},
   "outputs": [
    {
     "name": "stdout",
     "output_type": "stream",
     "text": [
      "Matches found: ['123', '456', '258', '756']\n"
     ]
    }
   ],
   "source": [
    "pattern = r\"\\d{3}+\"\n",
    "text = \"Hello World 123 RAj 4561 258756\"\n",
    "matches = re.findall(pattern, text)\n",
    "print(\"Matches found:\", matches)"
   ]
  },
  {
   "cell_type": "code",
   "execution_count": 12,
   "id": "6070f46b-46f4-487c-9d56-7b72e5f67165",
   "metadata": {},
   "outputs": [
    {
     "name": "stdout",
     "output_type": "stream",
     "text": [
      "Matches found: ['H', 'e', 'l', 'l', 'o', 'W', 'o', 'r', 'l', 'd', '1', '2', '3', 'R', 'A', 'j', '4', '5', '6', '1', '2', '5', '8', '7']\n"
     ]
    }
   ],
   "source": [
    "pattern = r\"[\\w]\"\n",
    "text = \"Hello World 123 RAj 4561 2587\"\n",
    "matches = re.findall(pattern, text)\n",
    "print(\"Matches found:\", matches)"
   ]
  },
  {
   "cell_type": "code",
   "execution_count": 13,
   "id": "463e89f6-e706-41cb-943c-fae5977acf30",
   "metadata": {},
   "outputs": [
    {
     "name": "stdout",
     "output_type": "stream",
     "text": [
      "Matches found: ['Hello', 'World', '123', 'RAj', '4561', '2587']\n"
     ]
    }
   ],
   "source": [
    "pattern = r\"[\\w]+\"\n",
    "text = \"Hello World 123 RAj 4561 2587\"\n",
    "matches = re.findall(pattern, text)\n",
    "print(\"Matches found:\", matches)"
   ]
  },
  {
   "cell_type": "markdown",
   "id": "6acf1af6-bd13-481e-8fcf-819a20d01be9",
   "metadata": {},
   "source": [
    "### The dot character matches any character except a newline. Example:"
   ]
  },
  {
   "cell_type": "code",
   "execution_count": 14,
   "id": "146adbd2-efb6-4169-a551-dcc67d758db9",
   "metadata": {},
   "outputs": [
    {
     "name": "stdout",
     "output_type": "stream",
     "text": [
      "Match found: hello\n"
     ]
    }
   ],
   "source": [
    "pattern = r\"h.llo\"\n",
    "text = \"hello\"\n",
    "match = re.search(pattern, text)\n",
    "print(\"Match found:\", match.group() if match else \"No match\")\n"
   ]
  },
  {
   "cell_type": "code",
   "execution_count": 15,
   "id": "7c60c900-2dff-4d74-bdea-089ad9a89484",
   "metadata": {},
   "outputs": [
    {
     "name": "stdout",
     "output_type": "stream",
     "text": [
      "Match found: h llo\n"
     ]
    }
   ],
   "source": [
    "pattern = r\"h.llo\"\n",
    "text = \"h llo\"\n",
    "match = re.search(pattern, text)\n",
    "print(\"Match found:\", match.group() if match else \"No match\")\n"
   ]
  },
  {
   "cell_type": "code",
   "execution_count": 16,
   "id": "2e134e56-236a-4026-9bde-b35494255c04",
   "metadata": {},
   "outputs": [
    {
     "name": "stdout",
     "output_type": "stream",
     "text": [
      "Match found: h.llo\n"
     ]
    }
   ],
   "source": [
    "pattern = r\"h.llo\"\n",
    "text = \"h.llo\"\n",
    "match = re.search(pattern, text)\n",
    "print(\"Match found:\", match.group() if match else \"No match\")\n"
   ]
  },
  {
   "cell_type": "code",
   "execution_count": 17,
   "id": "9711088c-fd48-4630-b8ad-2245b4c8824c",
   "metadata": {},
   "outputs": [
    {
     "name": "stdout",
     "output_type": "stream",
     "text": [
      "Match found: No match\n"
     ]
    }
   ],
   "source": [
    "pattern = r\"h.llo\"\n",
    "text = \"h\\nllo\"\n",
    "match = re.search(pattern, text)\n",
    "print(\"Match found:\", match.group() if match else \"No match\")\n"
   ]
  },
  {
   "cell_type": "markdown",
   "id": "1523b0ee-3e32-4d4b-9499-6eac0d516d8e",
   "metadata": {},
   "source": []
  },
  {
   "cell_type": "code",
   "execution_count": 18,
   "id": "9c67e8a9-5a21-40b5-8aa4-960ce15fae01",
   "metadata": {},
   "outputs": [
    {
     "name": "stdout",
     "output_type": "stream",
     "text": [
      "Matches found: ['Hell--']\n"
     ]
    }
   ],
   "source": [
    "pattern = r\"[\\w-]+\"\n",
    "text = \"Hell--\"\n",
    "matches = re.findall(pattern, text)\n",
    "print(\"Matches found:\", matches)"
   ]
  },
  {
   "cell_type": "markdown",
   "id": "f2cb8889-7fc9-4622-a4b5-c1b1d7146a84",
   "metadata": {},
   "source": [
    "### Greedy Matches By default, regex is greedy, meaning it matches the longest possible string. To make it lazy (match as few characters as possible), use ?. Example:"
   ]
  },
  {
   "cell_type": "code",
   "execution_count": 19,
   "id": "44ea59cd-7bd2-4a37-b7de-efd128756bd0",
   "metadata": {},
   "outputs": [
    {
     "name": "stdout",
     "output_type": "stream",
     "text": [
      "Greedy match: content\n"
     ]
    }
   ],
   "source": [
    "pattern = r\".*\"\n",
    "text = \"content\"\n",
    "match = re.search(pattern, text)\n",
    "print(\"Greedy match:\", match.group())\n"
   ]
  },
  {
   "cell_type": "code",
   "execution_count": 20,
   "id": "293e1bf8-4f39-4406-9fc1-5f686376a273",
   "metadata": {},
   "outputs": [
    {
     "name": "stdout",
     "output_type": "stream",
     "text": [
      "Lazy match: c\n"
     ]
    }
   ],
   "source": [
    "pattern_lazy = r\".?\"\n",
    "text = \"content\"\n",
    "match_lazy = re.search(pattern_lazy, text)\n",
    "print(\"Lazy match:\", match_lazy.group())"
   ]
  },
  {
   "cell_type": "markdown",
   "id": "6d021964-637f-474c-aa02-b2504fb3fd94",
   "metadata": {},
   "source": [
    "### Grouping\n",
    "=> Parentheses () are used to group parts of a pattern for extraction or backreference. Example:"
   ]
  },
  {
   "cell_type": "code",
   "execution_count": 21,
   "id": "c778df3d-0c89-46f2-8a81-9878e27450c1",
   "metadata": {},
   "outputs": [
    {
     "name": "stdout",
     "output_type": "stream",
     "text": [
      "Area code: 123\n",
      "Local code: 45\n"
     ]
    }
   ],
   "source": [
    "pattern = r\"(\\d{3})-(\\d{2})\"\n",
    "text = \"Phone number: 123-45\"\n",
    "match = re.search(pattern, text)\n",
    "print(\"Area code:\", match.group(1))\n",
    "print(\"Local code:\", match.group(2))"
   ]
  },
  {
   "cell_type": "markdown",
   "id": "b6fa3a07-d363-468d-a09a-851400530d5d",
   "metadata": {},
   "source": [
    "### Matching at Beginning or End\n",
    "\n",
    "    ^: Match at the start\n",
    "\n",
    "    $: Match at the end"
   ]
  },
  {
   "cell_type": "code",
   "execution_count": 22,
   "id": "43ddb2cd-4498-4c17-82dc-89871391afdd",
   "metadata": {},
   "outputs": [
    {
     "name": "stdout",
     "output_type": "stream",
     "text": [
      "Match at start: Hello\n",
      "Match at end: world\n"
     ]
    }
   ],
   "source": [
    "pattern = r\"^Hello\"\n",
    "text = \"Hello world\"\n",
    "match = re.search(pattern, text)\n",
    "print(\"Match at start:\", match.group() if match else \"No match\")\n",
    "\n",
    "pattern = r\"world$\"\n",
    "match = re.search(pattern, text)\n",
    "print(\"Match at end:\", match.group() if match else \"No match\")"
   ]
  },
  {
   "cell_type": "markdown",
   "id": "e77e590f-9075-4d22-8de1-3ddac58b9987",
   "metadata": {},
   "source": [
    "### Match Objects, The match object contains details about the match. Use .group() to get matched text, and .start() / .end() to get positions. Example:"
   ]
  },
  {
   "cell_type": "code",
   "execution_count": 23,
   "id": "d3324c70-4129-4e55-8d4d-a1a755d45b17",
   "metadata": {},
   "outputs": [
    {
     "name": "stdout",
     "output_type": "stream",
     "text": [
      "Matched text: world\n",
      "Start position: 6\n",
      "End position: 11\n"
     ]
    }
   ],
   "source": [
    "pattern = r\"world\"\n",
    "text = \"Hello world\"\n",
    "match = re.search(pattern, text)\n",
    "print(\"Matched text:\", match.group())\n",
    "print(\"Start position:\", match.start())\n",
    "print(\"End position:\", match.end())"
   ]
  },
  {
   "cell_type": "markdown",
   "id": "7cf448c7-3987-483c-9a8b-f5de7c45f1f1",
   "metadata": {},
   "source": [
    "### Substituting, re.sub() replaces parts of the string that match a pattern. Example:"
   ]
  },
  {
   "cell_type": "code",
   "execution_count": 28,
   "id": "bdfabac9-fb12-4c64-b8c1-25603ca77270",
   "metadata": {},
   "outputs": [
    {
     "name": "stdout",
     "output_type": "stream",
     "text": [
      "After substitution: The dog sat on the mat.\n"
     ]
    }
   ],
   "source": [
    "pattern = r\"cat\"\n",
    "text = \"The cat sat on the mat.\"\n",
    "result = re.sub(pattern, \"dog\", text)\n",
    "print(\"After substitution:\", result)"
   ]
  },
  {
   "cell_type": "markdown",
   "id": "399bf85b",
   "metadata": {},
   "source": [
    "### Splitting a String"
   ]
  },
  {
   "cell_type": "markdown",
   "id": "76645b69",
   "metadata": {},
   "source": [
    "#### re.split() splits a string at each match of the pattern."
   ]
  },
  {
   "cell_type": "code",
   "execution_count": 30,
   "id": "716c3293",
   "metadata": {},
   "outputs": [
    {
     "name": "stdout",
     "output_type": "stream",
     "text": [
      "Split result: ['Split', 'this', 'sentence', 'by', 'spaces']\n"
     ]
    }
   ],
   "source": [
    "pattern = r\"\\s+\"\n",
    "text = \"Split this    sentence by spaces\"\n",
    "result = re.split(pattern, text)\n",
    "print(\"Split result:\",result)"
   ]
  },
  {
   "cell_type": "code",
   "execution_count": 31,
   "id": "952e763e",
   "metadata": {},
   "outputs": [
    {
     "name": "stdout",
     "output_type": "stream",
     "text": [
      "Split result: ['Split', 'this', '', '', '', 'sentence', 'by', 'spaces']\n"
     ]
    }
   ],
   "source": [
    "pattern = r\"\\s\"\n",
    "text = \"Split this    sentence by spaces\"\n",
    "result = re.split(pattern, text)\n",
    "print(\"Split result:\",result)"
   ]
  },
  {
   "cell_type": "markdown",
   "id": "a0654bec",
   "metadata": {},
   "source": [
    "### Compiling Regular Expressions You can compile regular expressions for repeated use with re.compile(). Example:"
   ]
  },
  {
   "cell_type": "code",
   "execution_count": 32,
   "id": "c82884b4",
   "metadata": {},
   "outputs": [
    {
     "name": "stdout",
     "output_type": "stream",
     "text": [
      "Matches: ['123', '456']\n"
     ]
    }
   ],
   "source": [
    "pattern = re.compile(r\"\\d+\")\n",
    "text = \"123 apples, 456 bananas\"\n",
    "matches = pattern.findall(text)\n",
    "print(\"Matches:\", matches)"
   ]
  },
  {
   "cell_type": "markdown",
   "id": "70e1cada",
   "metadata": {},
   "source": [
    "### Flags\n",
    "Flags modify the behavior of regex. Common flags:\n",
    "\n",
    "\n",
    "re.IGNORECASE or re.I: case-insensitive matching\n",
    "\n",
    "re.DOTALL: makes . match newline characters\n",
    "\n",
    "re.MULTILINE: changes ^ and $ to match the start/end of lines.\n",
    "Example:"
   ]
  },
  {
   "cell_type": "code",
   "execution_count": 33,
   "id": "5a3f9439",
   "metadata": {},
   "outputs": [
    {
     "name": "stdout",
     "output_type": "stream",
     "text": [
      "Case-insensitive match: Hello\n"
     ]
    }
   ],
   "source": [
    "pattern = r\"hello\"\n",
    "text = \"Hello\"\n",
    "match = re.search(pattern, text, re.IGNORECASE)\n",
    "print(\"Case-insensitive match:\", match.group() if match else \"No match\")"
   ]
  },
  {
   "cell_type": "code",
   "execution_count": null,
   "id": "dfd16e2e",
   "metadata": {},
   "outputs": [],
   "source": []
  }
 ],
 "metadata": {
  "kernelspec": {
   "display_name": "Python 3",
   "language": "python",
   "name": "python3"
  },
  "language_info": {
   "codemirror_mode": {
    "name": "ipython",
    "version": 3
   },
   "file_extension": ".py",
   "mimetype": "text/x-python",
   "name": "python",
   "nbconvert_exporter": "python",
   "pygments_lexer": "ipython3",
   "version": "3.12.7"
  }
 },
 "nbformat": 4,
 "nbformat_minor": 5
}
