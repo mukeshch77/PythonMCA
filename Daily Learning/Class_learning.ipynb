{
 "cells": [
  {
   "cell_type": "code",
   "execution_count": 1,
   "id": "5096b636-a932-478e-a6d2-6f947bff1e5d",
   "metadata": {},
   "outputs": [],
   "source": [
    "list1 = [4,5,6]"
   ]
  },
  {
   "cell_type": "code",
   "execution_count": 2,
   "id": "cbf698c1-ed75-4012-99d9-465d983df660",
   "metadata": {},
   "outputs": [
    {
     "name": "stdout",
     "output_type": "stream",
     "text": [
      "[4, 5, 6]\n"
     ]
    }
   ],
   "source": [
    "print(list1)"
   ]
  },
  {
   "cell_type": "code",
   "execution_count": 3,
   "id": "c2ac6c14-1e94-4b68-9627-f957cfba41a2",
   "metadata": {},
   "outputs": [
    {
     "name": "stdout",
     "output_type": "stream",
     "text": [
      "<class 'list'>\n",
      "139843452753856\n"
     ]
    }
   ],
   "source": [
    "print(type(list1))\n",
    "print(id(list1))"
   ]
  },
  {
   "cell_type": "code",
   "execution_count": 7,
   "id": "8d972bd1-50fd-4864-b408-a2469224f0ed",
   "metadata": {},
   "outputs": [
    {
     "name": "stdout",
     "output_type": "stream",
     "text": [
      "[4, 5, 6, 69, 69]\n",
      "<class 'list'>\n",
      "139843452753856\n"
     ]
    }
   ],
   "source": [
    "list1.append(69)\n",
    "print(list1)\n",
    "print(type(list1))\n",
    "print(id(list1))"
   ]
  },
  {
   "cell_type": "code",
   "execution_count": 8,
   "id": "ebb24e77-2ff5-4a0a-907b-5953e500cf3b",
   "metadata": {},
   "outputs": [
    {
     "name": "stdout",
     "output_type": "stream",
     "text": [
      "Largest\n",
      "139843924381256\n"
     ]
    }
   ],
   "source": [
    "i=8\n",
    "j=4\n",
    "\n",
    "if i>j:\n",
    "    print(\"Largest\")\n",
    "else:\n",
    "    print(\"Smallest\")\n",
    "print(id(i))"
   ]
  },
  {
   "cell_type": "code",
   "execution_count": 13,
   "id": "bbb7e7ad-a353-49f4-b040-ec0edab739d6",
   "metadata": {},
   "outputs": [],
   "source": [
    "str2 = \"Hey!, I am Mukesh Choudhary\"\n",
    "str3 = \"stanny puch inko \\\"kahi\\\" se hai\"\n",
    "str1 = r'Who are \\you' # we can use double or sinle quotes as per convinence"
   ]
  },
  {
   "cell_type": "code",
   "execution_count": 14,
   "id": "fe2daa45-6c0d-49e4-8cc5-f6bd84291ad0",
   "metadata": {},
   "outputs": [
    {
     "name": "stdout",
     "output_type": "stream",
     "text": [
      "Who are \\you\n",
      "Hey!, I am Mukesh Choudhary\n",
      "stanny puch inko \"kahi\" se hai\n"
     ]
    }
   ],
   "source": [
    "print(str1)\n",
    "print(str2)\n",
    "print(str3)"
   ]
  },
  {
   "cell_type": "code",
   "execution_count": 15,
   "id": "3346cb8d-88e1-4eb2-9f4e-8f88c89c1024",
   "metadata": {},
   "outputs": [
    {
     "data": {
      "text/plain": [
       "'HEY!, I AM MUKESH CHOUDHARY'"
      ]
     },
     "execution_count": 15,
     "metadata": {},
     "output_type": "execute_result"
    }
   ],
   "source": [
    "str2.upper()\n",
    "#str3.lower()\n"
   ]
  },
  {
   "cell_type": "code",
   "execution_count": 16,
   "id": "7e110ca1-33c0-4dd0-a473-ca931bc2676e",
   "metadata": {},
   "outputs": [
    {
     "data": {
      "text/plain": [
       "'stanny puch inko \"kaha\" se hai'"
      ]
     },
     "execution_count": 16,
     "metadata": {},
     "output_type": "execute_result"
    }
   ],
   "source": [
    "str3.replace(\"kahi\",\"kaha\")"
   ]
  },
  {
   "cell_type": "code",
   "execution_count": 18,
   "id": "343b7917-d80d-4889-be43-254c665d6a80",
   "metadata": {},
   "outputs": [
    {
     "data": {
      "text/plain": [
       "'MukeshChoudhary'"
      ]
     },
     "execution_count": 18,
     "metadata": {},
     "output_type": "execute_result"
    }
   ],
   "source": [
    "s1 =\"Mukesh\"\n",
    "s2 =\"Choudhary\"\n",
    "s1+s2"
   ]
  },
  {
   "cell_type": "code",
   "execution_count": 19,
   "id": "434eb4a2-15dd-43a0-8809-6c91504727d6",
   "metadata": {},
   "outputs": [
    {
     "data": {
      "text/plain": [
       "False"
      ]
     },
     "execution_count": 19,
     "metadata": {},
     "output_type": "execute_result"
    }
   ],
   "source": [
    "s1<s2"
   ]
  },
  {
   "cell_type": "code",
   "execution_count": 21,
   "id": "517f6746-b253-43b5-b1d3-3f5a4f1a9a7d",
   "metadata": {},
   "outputs": [
    {
     "data": {
      "text/plain": [
       "'MukeshMukeshMukeshMukeshMukesh'"
      ]
     },
     "execution_count": 21,
     "metadata": {},
     "output_type": "execute_result"
    }
   ],
   "source": [
    "s1*5"
   ]
  },
  {
   "cell_type": "code",
   "execution_count": 22,
   "id": "c709b8d4-6c5f-4051-8639-9dcfed465504",
   "metadata": {},
   "outputs": [
    {
     "name": "stdout",
     "output_type": "stream",
     "text": [
      "True\n",
      "False\n",
      "False\n"
     ]
    }
   ],
   "source": [
    "print(\"s\" in s1)\n",
    "print(\"a\" in s1)\n",
    "print(\"S\" in s1)"
   ]
  },
  {
   "cell_type": "code",
   "execution_count": 23,
   "id": "e8a5b535-55ce-4154-9b5f-05478a720336",
   "metadata": {},
   "outputs": [
    {
     "data": {
      "text/plain": [
       "'h'"
      ]
     },
     "execution_count": 23,
     "metadata": {},
     "output_type": "execute_result"
    }
   ],
   "source": [
    "s1[5]"
   ]
  },
  {
   "cell_type": "code",
   "execution_count": 25,
   "id": "a806ef30-5798-41e8-ab90-b82d185e784f",
   "metadata": {},
   "outputs": [
    {
     "data": {
      "text/plain": [
       "'uke'"
      ]
     },
     "execution_count": 25,
     "metadata": {},
     "output_type": "execute_result"
    }
   ],
   "source": [
    "s1[1:4]"
   ]
  },
  {
   "cell_type": "code",
   "execution_count": 26,
   "id": "662cd5b8-317e-4d1a-bf0d-74f00cdee4ef",
   "metadata": {},
   "outputs": [
    {
     "data": {
      "text/plain": [
       "'Hey!, I am Mukesh Choudhary'"
      ]
     },
     "execution_count": 26,
     "metadata": {},
     "output_type": "execute_result"
    }
   ],
   "source": [
    "str2[0:93] #Available string are printed here"
   ]
  },
  {
   "cell_type": "code",
   "execution_count": 27,
   "id": "4d22f3b4-529f-4c64-9788-348ab4798411",
   "metadata": {},
   "outputs": [
    {
     "name": "stdin",
     "output_type": "stream",
     "text": [
      "enter your name Mukesh Choudhary\n"
     ]
    },
    {
     "name": "stdout",
     "output_type": "stream",
     "text": [
      "Hi Mukesh Choudhary\n"
     ]
    }
   ],
   "source": [
    "val =input(\"enter your name\")\n",
    "print(f\"Hi {val}\")"
   ]
  },
  {
   "cell_type": "code",
   "execution_count": 30,
   "id": "f24b03d1-2ff8-4f5c-a58e-86b1ae7307ee",
   "metadata": {},
   "outputs": [
    {
     "data": {
      "text/plain": [
       "-1"
      ]
     },
     "execution_count": 30,
     "metadata": {},
     "output_type": "execute_result"
    }
   ],
   "source": [
    "a=1\n",
    "b=-1.7\n",
    "c=(a+b)\n",
    "round(c)\n"
   ]
  },
  {
   "cell_type": "code",
   "execution_count": 31,
   "id": "286efcce-ea1f-448c-b07d-7724ea4bc6b5",
   "metadata": {},
   "outputs": [
    {
     "name": "stdout",
     "output_type": "stream",
     "text": [
      "0b110\n",
      "0b100\n"
     ]
    }
   ],
   "source": [
    "a=6\n",
    "b=4\n",
    "print(bin(a))\n",
    "print(bin(b))"
   ]
  },
  {
   "cell_type": "code",
   "execution_count": 32,
   "id": "08164a76-3ec6-417b-8156-4eee5e42c900",
   "metadata": {},
   "outputs": [
    {
     "name": "stdout",
     "output_type": "stream",
     "text": [
      "0b110\n"
     ]
    }
   ],
   "source": [
    "print(bin(a|b))"
   ]
  },
  {
   "cell_type": "code",
   "execution_count": 34,
   "id": "1a4e0c99-c4c5-43a2-873c-c015d631ee89",
   "metadata": {},
   "outputs": [
    {
     "name": "stdout",
     "output_type": "stream",
     "text": [
      "0b1\n"
     ]
    }
   ],
   "source": [
    "shifta= a>>2\n",
    "print(bin(shifta))"
   ]
  },
  {
   "cell_type": "code",
   "execution_count": 35,
   "id": "fe708b28-603f-42e2-a63b-2f1f6a4115e0",
   "metadata": {},
   "outputs": [
    {
     "data": {
      "text/plain": [
       "1"
      ]
     },
     "execution_count": 35,
     "metadata": {},
     "output_type": "execute_result"
    }
   ],
   "source": [
    "shifta"
   ]
  },
  {
   "cell_type": "code",
   "execution_count": 36,
   "id": "7b5b642c-73e3-4528-b4c0-de0667fe9608",
   "metadata": {},
   "outputs": [
    {
     "name": "stdout",
     "output_type": "stream",
     "text": [
      "2\n",
      "3\n",
      "5\n",
      "7\n",
      "4\n",
      "6\n",
      "1\n",
      "3\n"
     ]
    }
   ],
   "source": [
    "list5 =[2,3,5,7,4,6,1,3]\n",
    "\n",
    "for e in list5:\n",
    "    print(e)"
   ]
  },
  {
   "cell_type": "code",
   "execution_count": 37,
   "id": "92ccd40f-cf7b-4f8f-b3f1-7a35b51b578c",
   "metadata": {},
   "outputs": [
    {
     "name": "stdout",
     "output_type": "stream",
     "text": [
      "0\n",
      "1\n",
      "2\n",
      "3\n",
      "4\n",
      "5\n",
      "6\n",
      "7\n",
      "8\n",
      "9\n",
      "10\n",
      "11\n",
      "12\n",
      "13\n",
      "14\n",
      "15\n",
      "16\n",
      "17\n",
      "18\n",
      "19\n",
      "20\n",
      "21\n",
      "22\n",
      "23\n",
      "24\n"
     ]
    }
   ],
   "source": [
    "for i in range(0,25):\n",
    "    print(i)"
   ]
  },
  {
   "cell_type": "code",
   "execution_count": 40,
   "id": "7e06bd98-715b-4926-8ffb-1c593d1cf3ca",
   "metadata": {},
   "outputs": [
    {
     "name": "stdout",
     "output_type": "stream",
     "text": [
      "M\n",
      "u\n",
      "k\n",
      "e\n",
      "s\n",
      "h\n",
      " \n",
      "C\n",
      "h\n",
      "o\n",
      "u\n",
      "d\n",
      "h\n",
      "a\n",
      "r\n",
      "y\n"
     ]
    }
   ],
   "source": [
    "str4= \"Mukesh Choudhary\"\n",
    "for i in range(0,len(str4)):\n",
    "    print(str4[i])"
   ]
  },
  {
   "cell_type": "code",
   "execution_count": 41,
   "id": "9e6213ff-502f-4e18-b31a-4100292eb976",
   "metadata": {},
   "outputs": [
    {
     "name": "stdout",
     "output_type": "stream",
     "text": [
      "1\n",
      "2\n",
      "3\n",
      "4\n",
      "5\n",
      "6\n",
      "7\n",
      "8\n",
      "9\n",
      "10\n",
      "11\n",
      "12\n",
      "13\n",
      "14\n"
     ]
    }
   ],
   "source": [
    "a=1\n",
    "b=15\n",
    "\n",
    "while a<b:\n",
    "  print(a)\n",
    "\n",
    "  a+=1\n",
    "  "
   ]
  },
  {
   "cell_type": "code",
   "execution_count": 42,
   "id": "4675125f-c099-4098-8cce-f1439ec25ed4",
   "metadata": {},
   "outputs": [
    {
     "name": "stdout",
     "output_type": "stream",
     "text": [
      "1\n",
      "Mukesh\n",
      "2\n",
      "Mukesh\n",
      "3\n",
      "Mukesh\n",
      "4\n",
      "Mukesh\n",
      "5\n",
      "Mukesh\n",
      "6\n",
      "Mukesh\n",
      "7\n",
      "Mukesh\n",
      "8\n",
      "Rhne de ab\n"
     ]
    }
   ],
   "source": [
    "a=1\n",
    "b=100\n",
    "\n",
    "while a<b:\n",
    "  # count+=1\n",
    "   print(a)\n",
    "\n",
    "   a+=1\n",
    "\n",
    "   if a>8:\n",
    "     break\n",
    "   \n",
    "   print(\"Mukesh\")\n",
    "\n",
    "   #if count>500:\n",
    "   #break\n",
    "print(\"Rhne de ab\")"
   ]
  },
  {
   "cell_type": "code",
   "execution_count": 43,
   "id": "7cea695b-6319-4ade-b420-9d632419715f",
   "metadata": {},
   "outputs": [
    {
     "name": "stdout",
     "output_type": "stream",
     "text": [
      "1\n",
      "Mukesh\n",
      "2\n",
      "Mukesh\n",
      "3\n",
      "Mukesh\n",
      "4\n",
      "Mukesh\n",
      "5\n",
      "Mukesh\n",
      "6\n",
      "Mukesh\n",
      "7\n",
      "8\n",
      "9\n",
      "10\n",
      "11\n",
      "12\n",
      "13\n",
      "14\n",
      "15\n",
      "16\n",
      "17\n",
      "18\n",
      "19\n",
      "20\n",
      "Rhne de ab\n"
     ]
    }
   ],
   "source": [
    "a=1\n",
    "b=100\n",
    "\n",
    "while True:\n",
    "  # count+=1\n",
    "   print(a)\n",
    "\n",
    "   a+=1\n",
    "\n",
    "   if a>20:\n",
    "      break\n",
    "   \n",
    "   if a>7:\n",
    "     continue\n",
    "   \n",
    "   print(\"Mukesh\")\n",
    "\n",
    "   #if count>500:\n",
    "   #break\n",
    "print(\"Rhne de ab\")"
   ]
  },
  {
   "cell_type": "code",
   "execution_count": 44,
   "id": "96352e1f-0384-4d70-94e3-20078e6141b8",
   "metadata": {},
   "outputs": [
    {
     "name": "stdout",
     "output_type": "stream",
     "text": [
      "True\n"
     ]
    }
   ],
   "source": [
    "str1 = \"hello bsdl bol na\"\n",
    "str2 =\"BOl Na\"\n",
    "\n",
    "#print(str2 in str1)\n",
    "print(str2.upper() in str1.upper())  #membership function"
   ]
  },
  {
   "cell_type": "code",
   "execution_count": 72,
   "id": "adb0ca76-12ea-4c09-969e-c3e23e2bdd92",
   "metadata": {},
   "outputs": [
    {
     "data": {
      "text/plain": [
       "[1, 22, 53, 74, 89, '69']"
      ]
     },
     "execution_count": 72,
     "metadata": {},
     "output_type": "execute_result"
    }
   ],
   "source": [
    "list2 =[1,22,53,74,89,'69']\n",
    "list2"
   ]
  },
  {
   "cell_type": "code",
   "execution_count": 73,
   "id": "94233190-c00b-46d4-9642-36cc4467afc4",
   "metadata": {},
   "outputs": [
    {
     "name": "stdout",
     "output_type": "stream",
     "text": [
      "1\n",
      "22\n",
      "53\n",
      "74\n",
      "89\n",
      "69\n"
     ]
    }
   ],
   "source": [
    "for i in list2:\n",
    "    print(i)\n"
   ]
  },
  {
   "cell_type": "code",
   "execution_count": 74,
   "id": "f7be2a0e-535a-49ec-828d-c2db47c140a0",
   "metadata": {},
   "outputs": [
    {
     "name": "stdout",
     "output_type": "stream",
     "text": [
      "0\n",
      "1\n",
      "2\n",
      "3\n",
      "4\n"
     ]
    }
   ],
   "source": [
    "for i in range(0, 5):\n",
    "    print(i)"
   ]
  },
  {
   "cell_type": "code",
   "execution_count": 83,
   "id": "6ef5d552-d078-4b22-a4ad-816dee2a419d",
   "metadata": {},
   "outputs": [
    {
     "ename": "TypeError",
     "evalue": "'set' object is not callable",
     "output_type": "error",
     "traceback": [
      "\u001b[0;31m---------------------------------------------------------------------------\u001b[0m",
      "\u001b[0;31mTypeError\u001b[0m                                 Traceback (most recent call last)",
      "Cell \u001b[0;32mIn[83], line 2\u001b[0m\n\u001b[1;32m      1\u001b[0m \u001b[38;5;28;01mfor\u001b[39;00m i \u001b[38;5;129;01min\u001b[39;00m \u001b[38;5;28mrange\u001b[39m(\u001b[38;5;241m0\u001b[39m,\u001b[38;5;28mlen\u001b[39m(list2)):\n\u001b[0;32m----> 2\u001b[0m     \u001b[38;5;28mprint\u001b[39m(\u001b[38;5;124mf\u001b[39m\u001b[38;5;124m\"\u001b[39m\u001b[38;5;124m at index \u001b[39m\u001b[38;5;130;01m\\t\u001b[39;00m\u001b[38;5;132;01m{\u001b[39;00mi\u001b[38;5;132;01m}\u001b[39;00m\u001b[38;5;124m \u001b[39m\u001b[38;5;130;01m\\n\u001b[39;00m\u001b[38;5;124m value is \u001b[39m\u001b[38;5;132;01m{\u001b[39;00m\u001b[43mlist2\u001b[49m\u001b[43m(\u001b[49m\u001b[43mi\u001b[49m\u001b[43m)\u001b[49m\u001b[38;5;132;01m}\u001b[39;00m\u001b[38;5;124m\"\u001b[39m)\n",
      "\u001b[0;31mTypeError\u001b[0m: 'set' object is not callable"
     ]
    }
   ],
   "source": [
    "for i in range(0,len(list2)):\n",
    "    print(f\" at index \\t{i} \\n value is {list2(i)}\")"
   ]
  },
  {
   "cell_type": "code",
   "execution_count": 84,
   "id": "a436b2d1-bb2b-4d86-bc99-61e83c53df6a",
   "metadata": {},
   "outputs": [
    {
     "name": "stdout",
     "output_type": "stream",
     "text": [
      "0\n",
      "5\n"
     ]
    }
   ],
   "source": [
    "list2 = {5,2,6,7,5,9}\n",
    "for i in (0,len(list2)):\n",
    "    print(i)"
   ]
  },
  {
   "cell_type": "code",
   "execution_count": 85,
   "id": "337043cf-7df2-4fe0-9a8c-1f5af93a7173",
   "metadata": {},
   "outputs": [
    {
     "data": {
      "text/plain": [
       "([[50, 60], [51, 61]], 2)"
      ]
     },
     "execution_count": 85,
     "metadata": {},
     "output_type": "execute_result"
    }
   ],
   "source": [
    "row1 =[50, 60]\n",
    "row2 = [51,61]\n",
    "matrix=[row1 ,row2]\n",
    "\n",
    "matrix ,len(matrix)"
   ]
  },
  {
   "cell_type": "code",
   "execution_count": 86,
   "id": "1292189f-039c-437b-a74a-7f9a7e26c17a",
   "metadata": {},
   "outputs": [
    {
     "data": {
      "text/plain": [
       "50"
      ]
     },
     "execution_count": 86,
     "metadata": {},
     "output_type": "execute_result"
    }
   ],
   "source": [
    "matrix[0][0]"
   ]
  },
  {
   "cell_type": "code",
   "execution_count": 87,
   "id": "3abeac66-59d3-4057-babb-895b5e2d6be4",
   "metadata": {},
   "outputs": [
    {
     "name": "stdout",
     "output_type": "stream",
     "text": [
      "139843429783552\n",
      "[50, 60]\n",
      "139843429783552\n",
      "[51, 61]\n"
     ]
    },
    {
     "data": {
      "text/plain": [
       "2"
      ]
     },
     "execution_count": 87,
     "metadata": {},
     "output_type": "execute_result"
    }
   ],
   "source": [
    "for i in matrix:\n",
    "    print(id(matrix))\n",
    "    print(i)\n",
    "len(matrix)\n"
   ]
  },
  {
   "cell_type": "code",
   "execution_count": 88,
   "id": "7a794ff7-75b1-4692-ad2b-2a656b902d6b",
   "metadata": {},
   "outputs": [],
   "source": [
    "def showdetails(val):\n",
    "    print(f\"value is {val} \\n  ID is {id(val)}\")"
   ]
  },
  {
   "cell_type": "code",
   "execution_count": 89,
   "id": "cdb9ebf0-5768-4dbf-9251-3bf23ee22992",
   "metadata": {},
   "outputs": [
    {
     "name": "stdout",
     "output_type": "stream",
     "text": [
      "value is {2, 5, 6, 7, 9} \n",
      "  ID is 139843453254368\n"
     ]
    }
   ],
   "source": [
    "showdetails(list2)"
   ]
  },
  {
   "cell_type": "code",
   "execution_count": 92,
   "id": "0ecc8d42-2870-4328-bba6-c11027f4d501",
   "metadata": {},
   "outputs": [
    {
     "ename": "TypeError",
     "evalue": "'set' object does not support item assignment",
     "output_type": "error",
     "traceback": [
      "\u001b[0;31m---------------------------------------------------------------------------\u001b[0m",
      "\u001b[0;31mTypeError\u001b[0m                                 Traceback (most recent call last)",
      "Cell \u001b[0;32mIn[92], line 1\u001b[0m\n\u001b[0;32m----> 1\u001b[0m \u001b[43mlist2\u001b[49m\u001b[43m[\u001b[49m\u001b[38;5;241;43m0\u001b[39;49m\u001b[43m]\u001b[49m\u001b[38;5;241m=\u001b[39m\u001b[38;5;241m1000\u001b[39m\n\u001b[1;32m      2\u001b[0m showdetails(list2)\n",
      "\u001b[0;31mTypeError\u001b[0m: 'set' object does not support item assignment"
     ]
    }
   ],
   "source": [
    "list2[0]=1000\n",
    "showdetails(list2)"
   ]
  },
  {
   "cell_type": "code",
   "execution_count": 93,
   "id": "3f028e19-46ca-4509-9d6d-5fedd58373ee",
   "metadata": {},
   "outputs": [
    {
     "name": "stdout",
     "output_type": "stream",
     "text": [
      "[[1, 2, 3], [4, 5, 6], [7, 8, 9]]\n"
     ]
    }
   ],
   "source": [
    "listA =[[1,2,3],[4,5,6],[7,8,9]]\n",
    "print(listA)"
   ]
  },
  {
   "cell_type": "code",
   "execution_count": 94,
   "id": "4c105582-5470-427f-b585-a69082e90530",
   "metadata": {},
   "outputs": [
    {
     "name": "stdout",
     "output_type": "stream",
     "text": [
      "[[1, 2, 3], [4, 5, 6], [7, 8, 9]]\n",
      "[[1, 2, 3], [4, 5, 6], [7, 8, 9]]\n",
      "139843430391232\n",
      "139843430387264\n"
     ]
    }
   ],
   "source": [
    "#shallow copy\n",
    "listB=listA.copy()\n",
    "print(listB)\n",
    "print(listA)\n",
    "print(id(listA))\n",
    "print(id(listB))"
   ]
  },
  {
   "cell_type": "code",
   "execution_count": 95,
   "id": "eea521ce-a36b-45cc-bd92-e346633537f4",
   "metadata": {},
   "outputs": [
    {
     "name": "stdout",
     "output_type": "stream",
     "text": [
      "[[1, 2, 3], [4, 5, 6], [7, 8, 9]]\n",
      "[[1, 2, 3], [4, 5, 6], [7, 8, 9]]\n",
      "139843430391232\n",
      "139843430444800\n"
     ]
    }
   ],
   "source": [
    "#it is also shallow copy\n",
    "listB=list(listA)\n",
    "print(listB)\n",
    "print(listA)\n",
    "print(id(listA))\n",
    "print(id(listB))"
   ]
  },
  {
   "cell_type": "code",
   "execution_count": 96,
   "id": "36de40d0-b9f6-4250-a354-94ccf00279eb",
   "metadata": {},
   "outputs": [
    {
     "name": "stdout",
     "output_type": "stream",
     "text": [
      "[[1, 2, 3], [4, 5, 6], [7, 8, 9]]\n",
      "[[1, 2, 3], [4, 5, 6], [7, 8, 9]]\n",
      "139843430391232\n",
      "139843430300864\n"
     ]
    }
   ],
   "source": [
    "import copy\n",
    "listB =copy.deepcopy(listA)\n",
    "print(listB)\n",
    "print(listA)\n",
    "print(id(listA))\n",
    "print(id(listB))"
   ]
  },
  {
   "cell_type": "code",
   "execution_count": 97,
   "id": "5eed2a32-e717-45b1-95b1-72a4b3c44eec",
   "metadata": {},
   "outputs": [
    {
     "name": "stdout",
     "output_type": "stream",
     "text": [
      "['False', 'None', 'True', 'and', 'as', 'assert', 'async', 'await', 'break', 'class', 'continue', 'def', 'del', 'elif', 'else', 'except', 'finally', 'for', 'from', 'global', 'if', 'import', 'in', 'is', 'lambda', 'nonlocal', 'not', 'or', 'pass', 'raise', 'return', 'try', 'while', 'with', 'yield']\n"
     ]
    }
   ],
   "source": [
    "import keyword   \n",
    "print(keyword.kwlist)"
   ]
  },
  {
   "cell_type": "code",
   "execution_count": 98,
   "id": "b1330bae-b81b-4df9-8a06-04c633a05599",
   "metadata": {},
   "outputs": [
    {
     "name": "stdout",
     "output_type": "stream",
     "text": [
      "result is 67\n"
     ]
    }
   ],
   "source": [
    "#initializing\n",
    "\n",
    "var1 = 12\n",
    "var2 = 45\n",
    "\n",
    "\n",
    "#defining the function \n",
    "\n",
    "def add(a,b,c,d,e):\n",
    "    res =a+b+c+d+e\n",
    "    return res\n",
    "\n",
    "\n",
    "\n",
    "#using function\n",
    "result =add(var1,var2,5,2,3)  # we can pass any data type as argument in a variable functio will treat every variable as an object\n",
    "print(f\"result is {result}\")"
   ]
  },
  {
   "cell_type": "markdown",
   "id": "64373a57-86e0-4f48-a9b5-7eb4b89f9f75",
   "metadata": {},
   "source": [
    "#### write a function that takes two values and return the result"
   ]
  },
  {
   "cell_type": "code",
   "execution_count": 100,
   "id": "fe35bc80-292b-48e4-b3b3-d5fe43050d5a",
   "metadata": {},
   "outputs": [
    {
     "name": "stdout",
     "output_type": "stream",
     "text": [
      "14\n"
     ]
    }
   ],
   "source": [
    "def taking(a , b):\n",
    "    c=a+b\n",
    "    print(c) \n",
    "\n",
    "taking(8 ,6)"
   ]
  },
  {
   "cell_type": "code",
   "execution_count": 102,
   "id": "ad73f142-b82d-4452-b84c-19db514fa64f",
   "metadata": {},
   "outputs": [
    {
     "name": "stdout",
     "output_type": "stream",
     "text": [
      "HI Mukesh! How are you ?\n"
     ]
    }
   ],
   "source": [
    "def greet(name ,massage):\n",
    "    print(f\"HI {name} {massage}\")\n",
    "\n",
    "name = \"Mukesh!\"\n",
    "massage = \"How are you ?\"\n",
    "greet(name ,massage)\n",
    "# greet(name= \"Mukesh\" , massage= \"HOw are you\") #Another way to print"
   ]
  },
  {
   "cell_type": "code",
   "execution_count": 103,
   "id": "b7796197-086d-404d-b1c9-735ce1e86365",
   "metadata": {},
   "outputs": [
    {
     "name": "stdout",
     "output_type": "stream",
     "text": [
      "30\n",
      "20\n",
      "10\n"
     ]
    }
   ],
   "source": [
    "x =10   #Global variable\n",
    "\n",
    "def outer_function():\n",
    "    x = 20    #Enclosing variable\n",
    "    def inner_function():\n",
    "        x = 30  #Local variable\n",
    "        print(x)          # output : 30\n",
    "    inner_function()\n",
    "    print(x)               # output :20\n",
    "\n",
    "\n",
    "outer_function()\n",
    "print(x)       \n",
    "          #output = 10\n",
    "      "
   ]
  },
  {
   "cell_type": "code",
   "execution_count": 104,
   "id": "12562299-2d34-408a-9fa3-6581328995f6",
   "metadata": {},
   "outputs": [],
   "source": [
    "counter = 0\n",
    "\n",
    "def increament():\n",
    "    global counter\n",
    "    counter += 1"
   ]
  },
  {
   "cell_type": "code",
   "execution_count": 105,
   "id": "1cff0bb6-6f91-490c-8cd2-cb1901e5acff",
   "metadata": {},
   "outputs": [
    {
     "name": "stdout",
     "output_type": "stream",
     "text": [
      "1\n"
     ]
    }
   ],
   "source": [
    "increament()\n",
    "print(counter)"
   ]
  },
  {
   "cell_type": "code",
   "execution_count": 106,
   "id": "e7ee24f2-cc57-4683-9ee4-7be7a62d7d06",
   "metadata": {},
   "outputs": [],
   "source": [
    "def modify_immutable(x):\n",
    "    x+=1\n",
    "    print(f\"inside function : {x}\")"
   ]
  },
  {
   "cell_type": "code",
   "execution_count": 107,
   "id": "04ff3336-1170-4bbc-95db-adb9639dedc3",
   "metadata": {},
   "outputs": [
    {
     "name": "stdout",
     "output_type": "stream",
     "text": [
      "inside function : 7\n",
      "outside function : 6\n"
     ]
    }
   ],
   "source": [
    "a = 6\n",
    "modify_immutable(a)\n",
    "print(f\"outside function : {a}\")"
   ]
  },
  {
   "cell_type": "code",
   "execution_count": 108,
   "id": "8aeb06c5-f039-41e2-b119-6ac9d4746f9d",
   "metadata": {},
   "outputs": [],
   "source": [
    "def modify_mutable(list):\n",
    "    list.append(7)\n",
    "    print(f\"inside function : {list}\")"
   ]
  },
  {
   "cell_type": "code",
   "execution_count": 109,
   "id": "4c610570-e59c-4e1f-8ffd-b6dd05a91885",
   "metadata": {},
   "outputs": [
    {
     "name": "stdout",
     "output_type": "stream",
     "text": [
      "inside function : [1, 2, 3, 7]\n",
      "outside function : [1, 2, 3, 7]\n"
     ]
    }
   ],
   "source": [
    "my_list = [1 ,2 , 3]\n",
    "modify_mutable(my_list)\n",
    "print(f\"outside function : {my_list}\")"
   ]
  },
  {
   "cell_type": "code",
   "execution_count": 111,
   "id": "95f3a52d-77f8-44c1-b35d-cd8ab85edb83",
   "metadata": {},
   "outputs": [
    {
     "name": "stdout",
     "output_type": "stream",
     "text": [
      "49\n"
     ]
    }
   ],
   "source": [
    "def square(x):\n",
    "    return x*x\n",
    "\n",
    "f =square\n",
    "print(f(7))\n",
    "\n",
    "def apply_function(fun ,val):\n",
    "    return fun(val)\n",
    "\n"
   ]
  },
  {
   "cell_type": "code",
   "execution_count": 114,
   "id": "0775d52a-df27-48c2-94d5-fd2510b75189",
   "metadata": {},
   "outputs": [
    {
     "name": "stdout",
     "output_type": "stream",
     "text": [
      "64\n"
     ]
    }
   ],
   "source": [
    "result = apply_function(square , 8)\n",
    "print(result)"
   ]
  },
  {
   "cell_type": "code",
   "execution_count": 115,
   "id": "992f608f-968b-483b-abf2-48b3c9147a22",
   "metadata": {},
   "outputs": [],
   "source": [
    "def double(x):\n",
    "\n",
    "    return x*2\n",
    "\n",
    "def triple(x):\n",
    "    return x*3\n",
    "\n",
    "def apply_operation(fun ,number):\n",
    "    return fun(number)"
   ]
  },
  {
   "cell_type": "code",
   "execution_count": 116,
   "id": "e87f34a9-30c2-4ca1-a38a-a4ca9925e8c1",
   "metadata": {},
   "outputs": [
    {
     "name": "stdout",
     "output_type": "stream",
     "text": [
      "10\n",
      "15\n"
     ]
    }
   ],
   "source": [
    "print(apply_operation(double , 5))\n",
    "print(apply_operation(triple , 5))"
   ]
  },
  {
   "cell_type": "markdown",
   "id": "7f13f8e6-a848-4267-ab58-a1e40c6fa3ba",
   "metadata": {},
   "source": [
    "### lambda function ###"
   ]
  },
  {
   "cell_type": "markdown",
   "id": "0b88eed2-23f7-454d-bdc7-5c8192290b35",
   "metadata": {},
   "source": [
    "**lambda function to add two numbers**"
   ]
  },
  {
   "cell_type": "code",
   "execution_count": 117,
   "id": "59fd1d92-9f1e-404d-a5ce-a002fee22647",
   "metadata": {},
   "outputs": [
    {
     "name": "stdout",
     "output_type": "stream",
     "text": [
      "14\n"
     ]
    }
   ],
   "source": [
    "add =lambda a , b: a + b\n",
    "print(add(5,9))"
   ]
  },
  {
   "cell_type": "code",
   "execution_count": 118,
   "id": "16a1d4bc-0491-4be6-95ab-1d374b60d0a1",
   "metadata": {},
   "outputs": [
    {
     "name": "stdout",
     "output_type": "stream",
     "text": [
      "[16, 25, 36, 225]\n"
     ]
    }
   ],
   "source": [
    "numbers = [4 , 5 ,6 , 15]\n",
    "squared = map(lambda x: x * x ,numbers)\n",
    "print(list(squared))"
   ]
  },
  {
   "cell_type": "markdown",
   "id": "101bb95e-3a04-4be7-9a99-277f57596c23",
   "metadata": {},
   "source": [
    "**filter function : checks condition true then return it and if condition is false then ignores it move ahead**"
   ]
  },
  {
   "cell_type": "code",
   "execution_count": 119,
   "id": "ea2d8067-f9dd-4b45-ad8a-a070cb91de33",
   "metadata": {},
   "outputs": [
    {
     "name": "stdout",
     "output_type": "stream",
     "text": [
      "[4, 6]\n"
     ]
    }
   ],
   "source": [
    "even_numbers = filter(lambda x: x % 2 == 0 , numbers)\n",
    "print(list(even_numbers))"
   ]
  },
  {
   "cell_type": "markdown",
   "id": "b47672aa-404a-4e32-9979-43802d077908",
   "metadata": {},
   "source": [
    "### write a function to multiply three numbers and return its result using both normal function and lambda function ###"
   ]
  },
  {
   "cell_type": "code",
   "execution_count": 120,
   "id": "e457a56a-2f2d-4a8a-9a85-9dc008e28e8c",
   "metadata": {},
   "outputs": [
    {
     "data": {
      "text/plain": [
       "60"
      ]
     },
     "execution_count": 120,
     "metadata": {},
     "output_type": "execute_result"
    }
   ],
   "source": [
    "def multiply(a , b ,c):\n",
    "    return (a*b*c)\n",
    "\n",
    "multiply( 5, 6 ,2)\n"
   ]
  },
  {
   "cell_type": "code",
   "execution_count": 121,
   "id": "f54cc1cf-b704-4254-a9b0-996cb04cc173",
   "metadata": {},
   "outputs": [
    {
     "name": "stdout",
     "output_type": "stream",
     "text": [
      "60\n"
     ]
    }
   ],
   "source": [
    "multiply = lambda a, b ,c: a*b*c\n",
    "print(multiply(4,5,3))"
   ]
  },
  {
   "cell_type": "markdown",
   "id": "f18dddf6-8ec8-4c46-aed9-15711e974c7e",
   "metadata": {},
   "source": [
    "__creating a list of squares of even numbers from 0 to 9__"
   ]
  },
  {
   "cell_type": "code",
   "execution_count": 122,
   "id": "39005909-bf81-4532-9d37-39ab6735789c",
   "metadata": {},
   "outputs": [],
   "source": [
    "squares = []\n",
    "for i in range(10):\n",
    "    if i % 2 == 0:\n",
    "        squares.append(i ** 2)"
   ]
  },
  {
   "cell_type": "markdown",
   "id": "ed1322b5-29b9-4f9e-b078-63a62249f1b7",
   "metadata": {},
   "source": [
    "__creating a list of squares of even numbers from 0 to 9 using list comprehension__"
   ]
  },
  {
   "cell_type": "code",
   "execution_count": 123,
   "id": "65a5c0b3-d981-4c28-a092-2f370345e020",
   "metadata": {},
   "outputs": [],
   "source": [
    "squares = [ i**2 for i in range(10) if i % 2 == 0]"
   ]
  },
  {
   "cell_type": "code",
   "execution_count": null,
   "id": "b5b6308a-d8c2-48a1-8731-72a19295f569",
   "metadata": {},
   "outputs": [],
   "source": []
  }
 ],
 "metadata": {
  "kernelspec": {
   "display_name": "Python 3 (ipykernel)",
   "language": "python",
   "name": "python3"
  },
  "language_info": {
   "codemirror_mode": {
    "name": "ipython",
    "version": 3
   },
   "file_extension": ".py",
   "mimetype": "text/x-python",
   "name": "python",
   "nbconvert_exporter": "python",
   "pygments_lexer": "ipython3",
   "version": "3.12.4"
  }
 },
 "nbformat": 4,
 "nbformat_minor": 5
}
