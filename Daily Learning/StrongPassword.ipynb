{
 "cells": [
  {
   "cell_type": "markdown",
   "metadata": {},
   "source": [
    "### Check for a Strong Password\n",
    "\n",
    "\n",
    "\n",
    "##### Task: Write a function that checks if a password is strong. A strong password must contain:\n",
    "\n",
    "\tAt least 8 characters\n",
    " \n",
    "\n",
    "\tAt least one uppercase letter\n",
    " \n",
    "\n",
    "\tAt least one lowercase letter\n",
    " \n",
    "\n",
    "\tAt least one digit\n",
    " \n",
    "\n",
    "\tAt least one special character"
   ]
  },
  {
   "cell_type": "code",
   "execution_count": 1,
   "metadata": {},
   "outputs": [
    {
     "name": "stdout",
     "output_type": "stream",
     "text": [
      "Not strong pass\n"
     ]
    }
   ],
   "source": [
    "import re\n",
    "\n",
    "def is_strong_password(password):\n",
    "    pattern=r'^(?=.*[a-z])(?=.*[A-Z])(?=.*\\d)(?=.*[@\\( !%?&])[A-Za-z\\d@ \\)!%?&]{8,}$'\n",
    "\n",
    "    if re.match(pattern, password):\n",
    "        return True\n",
    "    else:\n",
    "        return False\n",
    "\n",
    "\n",
    "if is_strong_password(\"Mukesh12\"):\n",
    "    print(\"Strong pass\")\n",
    "else:\n",
    "    print(\"Not strong pass\")\n"
   ]
  },
  {
   "cell_type": "code",
   "execution_count": null,
   "metadata": {},
   "outputs": [],
   "source": []
  }
 ],
 "metadata": {
  "kernelspec": {
   "display_name": "Python 3",
   "language": "python",
   "name": "python3"
  },
  "language_info": {
   "codemirror_mode": {
    "name": "ipython",
    "version": 3
   },
   "file_extension": ".py",
   "mimetype": "text/x-python",
   "name": "python",
   "nbconvert_exporter": "python",
   "pygments_lexer": "ipython3",
   "version": "3.12.7"
  }
 },
 "nbformat": 4,
 "nbformat_minor": 2
}
