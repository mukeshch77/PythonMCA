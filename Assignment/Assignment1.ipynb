{
 "cells": [
  {
   "cell_type": "markdown",
   "id": "fe5c9315-d26e-4564-9990-2978fafc70b2",
   "metadata": {},
   "source": [
    "### Assignment 1"
   ]
  },
  {
   "cell_type": "markdown",
   "id": "185fe883-3e76-4273-aede-00e1a72a54b6",
   "metadata": {},
   "source": [
    "### Part 1: Introduction to Python"
   ]
  },
  {
   "cell_type": "markdown",
   "id": "ee38f6f8-f69e-40a4-aa17-be0c8dc96ae7",
   "metadata": {},
   "source": [
    "### Python Installation and Execution"
   ]
  },
  {
   "cell_type": "markdown",
   "id": "c68e5a3d-8cd0-4eee-a0f8-b7d0caae26de",
   "metadata": {},
   "source": [
    "Install Python on your system (if not already installed).\n",
    "\n",
    "Write a Python script that prints your name, course name, and the Python version you're using.\n",
    "\n",
    "Execute the script from the command line and include a screenshot of the output."
   ]
  },
  {
   "cell_type": "code",
   "execution_count": 7,
   "id": "a3e1b354-0e62-497f-a155-5eea13c70357",
   "metadata": {},
   "outputs": [
    {
     "name": "stdout",
     "output_type": "stream",
     "text": [
      "Name: Mukesh Choudhary\n",
      "Course: Master of Computer Application\n",
      "Python Version: 3.12.4 | packaged by Anaconda, Inc. | (main, Jun 18 2024, 15:03:56) [MSC v.1929 64 bit (AMD64)]\n"
     ]
    }
   ],
   "source": [
    "import sys\n",
    "\n",
    "# Define your details\n",
    "name = \"Mukesh Choudhary\"\n",
    "course = \"Master of Computer Application\"\n",
    "\n",
    "# Print your details and Python version\n",
    "print(f\"Name: {name}\")\n",
    "print(f\"Course: {course}\")\n",
    "print(f\"Python Version: {sys.version}\")\n"
   ]
  },
  {
   "cell_type": "markdown",
   "id": "cdd13b67-3738-464d-a825-6824e2a06162",
   "metadata": {},
   "source": [
    "### Question 1:\n",
    "\n",
    "![Question 1 output screenshot](./assignmentQ1.png)"
   ]
  },
  {
   "cell_type": "markdown",
   "id": "3d5a30c1-1acc-4162-a517-2a1e943aec1c",
   "metadata": {},
   "source": [
    "### Using IDLELE."
   ]
  },
  {
   "cell_type": "markdown",
   "id": "b69d47a5-c8d2-467d-abbd-761b835a17e1",
   "metadata": {},
   "source": [
    "Open IDLE and write a Python script that prints \"Hello, Python World!\".\n",
    "\n",
    "Save the script as hello.py and execute it using IDLE."
   ]
  },
  {
   "cell_type": "code",
   "execution_count": 18,
   "id": "0a81c1fb-8093-40e5-b32c-612ff7a4a61e",
   "metadata": {},
   "outputs": [
    {
     "name": "stdout",
     "output_type": "stream",
     "text": [
      "Hello, Python World!\n"
     ]
    }
   ],
   "source": [
    "print(\"Hello, Python World!\")"
   ]
  },
  {
   "cell_type": "markdown",
   "id": "ff8aeeda-3be9-411a-890d-e84b1f880e56",
   "metadata": {},
   "source": [
    "### Part 2: Basic Python Syntax\n",
    "### String Operations"
   ]
  },
  {
   "cell_type": "markdown",
   "id": "ad0e93e9-3d6b-42b8-bede-b56985c75290",
   "metadata": {},
   "source": [
    "Write a Python program that takes a user's first and last name as input and prints them in reverse order with a space between them.\r\n",
    "\r\n",
    "Use at least two string methods and explain their purpose in the comments."
   ]
  },
  {
   "cell_type": "code",
   "execution_count": 36,
   "id": "2612e15f-b1ce-498f-9d61-503246ab42d8",
   "metadata": {},
   "outputs": [
    {
     "name": "stdin",
     "output_type": "stream",
     "text": [
      "Enter your first name:  mukesh\n",
      "Enter your last name:  choudhary\n"
     ]
    },
    {
     "name": "stdout",
     "output_type": "stream",
     "text": [
      "yrahduohc hsekum\n"
     ]
    }
   ],
   "source": [
    "# Get user's first name\n",
    "first_name = input(\"Enter your first name: \")\n",
    "\n",
    "# Get user's last name\n",
    "last_name = input(\"Enter your last name: \")\n",
    "\n",
    "reverse_name = first_name + \" \" + last_name  # Combine the names with a space\n",
    "print(reverse_name[::-1])  # Print the reversed string\n",
    "\n"
   ]
  },
  {
   "cell_type": "markdown",
   "id": "81a9e5dd-5855-4416-9c48-f5864061e7be",
   "metadata": {},
   "source": [
    "### Numeric Data Types and Conversion Functionsts."
   ]
  },
  {
   "cell_type": "markdown",
   "id": "81930079-8f88-4f2a-b98f-af9ea4091a35",
   "metadata": {},
   "source": [
    "Write a Python program that takes an input number from the user, converts it to different numeric data types (integer, float, and complex), and displays the converted values.\n",
    "\n",
    "Explain the difference between these data types in comments."
   ]
  },
  {
   "cell_type": "code",
   "execution_count": 38,
   "id": "00c25ff5-a8dc-4412-8b2a-48838a708107",
   "metadata": {},
   "outputs": [
    {
     "name": "stdin",
     "output_type": "stream",
     "text": [
      "Enter the number : 34\n",
      "IN WHICH DATATYPE YOU WANT TO CONVERT FOR INT TYPE int FOR FLOAT TYPE flt FOR COMPLEX cmp  flt\n"
     ]
    },
    {
     "name": "stdout",
     "output_type": "stream",
     "text": [
      "The Float Value is 34.0\n"
     ]
    }
   ],
   "source": [
    "#In this code we take a input from user of number and store in the int variable a and then convert in other datatype\n",
    "\n",
    "a = int(input(\"Enter the number :\"))  #taking a integer input from user and store in varaible a \n",
    "b =  input(\"IN WHICH DATATYPE YOU WANT TO CONVERT FOR INT TYPE int FOR FLOAT TYPE flt FOR COMPLEX cmp \") #Then ask to user in thich dataype he/she want to conver if they want interger type int otherwise for float type flt or if they want complex then type cmp\n",
    "if b=='int': \n",
    "    d = int(a) \n",
    "    print(\"The Interger Value is\" , d) #and then print d \n",
    "elif b=='flt':  \n",
    "    d = float(a)   \n",
    "    print(\"The Float Value is\" , d)  #and print d \n",
    "elif b=='cmp' : \n",
    "    d=complex(a) #in this user input is converted into complex number \n",
    "    print(\"The Complex Value is \" ,d)    #then print d \n",
    "    \n"
   ]
  },
  {
   "cell_type": "markdown",
   "id": "4cad9a9b-ead6-4cde-a2b5-8c25d26fa0be",
   "metadata": {},
   "source": [
    "### Simple Input and Outputnction."
   ]
  },
  {
   "cell_type": "markdown",
   "id": "6b7b1bca-4bc9-4848-940f-9d50c1006abf",
   "metadata": {},
   "source": [
    "Create a Python script that calculates the area of a rectangle. The script should:\n",
    "\n",
    "Prompt the user to enter the length and width of the rectangle.\n",
    "\n",
    "Calculate the area.\n",
    "\n",
    "Display the result using the print function."
   ]
  },
  {
   "cell_type": "code",
   "execution_count": 42,
   "id": "7a7783a4-e394-4fcb-b8a1-99c68e978cc7",
   "metadata": {},
   "outputs": [
    {
     "name": "stdin",
     "output_type": "stream",
     "text": [
      "Enter the length of the rectangle 4\n",
      "Enter the breadth of the rectangle  7\n"
     ]
    },
    {
     "name": "stdout",
     "output_type": "stream",
     "text": [
      "The Area of Rectangle is  28\n"
     ]
    }
   ],
   "source": [
    "#In this code we take user input of length and breadth and the calculate the area of rectangle and then print it\n",
    "length_ = int(input(\"Enter the length of the rectangle\"))    #In this line we take a integer input length from user  \n",
    "breadth_ = int (input(\"Enter the breadth of the rectangle \"))  #In this line we also take a integer input breadth from user\n",
    "final_area = length_* breadth_   # In this line we calculate the area \n",
    "print(\"The Area of Rectangle is \" , final_area)    #Then we use print command and print the final output "
   ]
  },
  {
   "cell_type": "markdown",
   "id": "5f4c6785-5731-4ce2-896a-5a9c956ae6ac",
   "metadata": {},
   "source": [
    "### Using the format Method."
   ]
  },
  {
   "cell_type": "markdown",
   "id": "63e04e0d-2735-4721-aa01-909a87443327",
   "metadata": {},
   "source": [
    "Modify the rectangle area program to format the output so that it displays the area with two decimal places."
   ]
  },
  {
   "cell_type": "code",
   "execution_count": 46,
   "id": "9ac5efea-531e-439c-bcd0-0f602b8b0049",
   "metadata": {},
   "outputs": [
    {
     "name": "stdout",
     "output_type": "stream",
     "text": [
      "The area of the rectangle is: 28.00\n"
     ]
    }
   ],
   "source": [
    "#Using format function calculate the area of rectangle from the above function \n",
    "print(f\"The area of the rectangle is: {final_area:.2f}\")  #we take the same upper function just use the print commant to print the area in 2 decimal position using format function "
   ]
  },
  {
   "cell_type": "markdown",
   "id": "02f6830f-4661-4f91-9c63-63a2bba85206",
   "metadata": {},
   "source": [
    "### The % Method and print Function]\"."
   ]
  },
  {
   "cell_type": "markdown",
   "id": "00e26c42-1af8-4b5f-897d-3582e284f569",
   "metadata": {},
   "source": [
    "Write a Python script that takes three numbers as input and prints their average using the % method for string formatting.\n",
    "\n",
    "Also, use the print function to display a message that states, \"The average of the three numbers is: [calculated average]\"."
   ]
  },
  {
   "cell_type": "code",
   "execution_count": 50,
   "id": "bfcfb7fd-0c47-4573-be4c-0a8d1b7dffa3",
   "metadata": {},
   "outputs": [
    {
     "name": "stdin",
     "output_type": "stream",
     "text": [
      "Enter the first number:  12\n",
      "Enter the second number:  34\n",
      "Enter the third number:  22\n"
     ]
    },
    {
     "name": "stdout",
     "output_type": "stream",
     "text": [
      "The average of the three numbers is: 22.67\n"
     ]
    }
   ],
   "source": [
    "# Input three numbers from the user\n",
    "num_1 = float(input(\"Enter the first number: \"))\n",
    "num_2 = float(input(\"Enter the second number: \"))\n",
    "num_3 = float(input(\"Enter the third number: \"))\n",
    "\n",
    "# Calculate the average of the numbers\n",
    "average = (num_1 + num_2 + num_3) / 3\n",
    "\n",
    "# Print the average using the % method for string formatting\n",
    "print(\"The average of the three numbers is: %.2f\" % average)"
   ]
  },
  {
   "cell_type": "markdown",
   "id": "65512777-79d3-4e6a-85be-9efe972bd68a",
   "metadata": {},
   "source": [
    "### Part 3: Language Components"
   ]
  },
  {
   "cell_type": "markdown",
   "id": "75965916-1a79-4bd2-b9c0-f4c9633ba8df",
   "metadata": {},
   "source": [
    "### Control Flow (if Statements and Loops)"
   ]
  },
  {
   "cell_type": "markdown",
   "id": "2104405c-68b2-4ae0-83d6-9842a3bbe0a0",
   "metadata": {},
   "source": [
    "Write a Python program that asks the user for a number and determines whether it is positive, negative, or zero.\n",
    "\n",
    "Implement a loop that continues to ask the user for a number until they enter 'exit'.\n",
    "\n",
    "Use break to exit the loop and continue to prompt for a new number if the input is not 'exit'."
   ]
  },
  {
   "cell_type": "code",
   "execution_count": 65,
   "id": "402cddf8-8ab4-44c3-8c8d-5be02b0a741d",
   "metadata": {},
   "outputs": [
    {
     "name": "stdin",
     "output_type": "stream",
     "text": [
      "Enter a number (or type 'exit' to quit):  -44\n"
     ]
    },
    {
     "name": "stdout",
     "output_type": "stream",
     "text": [
      "The number is negative.\n"
     ]
    },
    {
     "name": "stdin",
     "output_type": "stream",
     "text": [
      "Enter a number (or type 'exit' to quit):  exit\n"
     ]
    },
    {
     "name": "stdout",
     "output_type": "stream",
     "text": [
      "Exiting the program. Goodbye!\n"
     ]
    }
   ],
   "source": [
    "while True:\n",
    "    # Input a number or type 'exit' to quit\n",
    "    user_input = input(\"Enter a number (or type 'exit' to quit): \")\n",
    "    \n",
    "    # Check if the user wants to exit\n",
    "    if user_input.lower() == 'exit':\n",
    "        print(\"Exiting the program. Goodbye!\")\n",
    "        break\n",
    "    \n",
    "    else:\n",
    "        # Convert input to a float and determine if it is positive, negative, or zero\n",
    "        number = float(user_input)\n",
    "        \n",
    "        if number > 0:\n",
    "            print(\"The number is positive.\")\n",
    "        elif number < 0:\n",
    "            print(\"The number is negative.\")\n",
    "        else:\n",
    "            print(\"The number is zero.\")\n",
    "    "
   ]
  },
  {
   "cell_type": "markdown",
   "id": "8bec9473-090a-4fef-a535-53110d2e962e",
   "metadata": {},
   "source": [
    "### Relational and Logical Operators."
   ]
  },
  {
   "cell_type": "markdown",
   "id": "91d7885e-5280-4b3b-9c1e-6317337c34c8",
   "metadata": {},
   "source": [
    "Create a Python script that takes two numbers as input and prints whether both numbers are even, odd, or one of each using relational and logical operators."
   ]
  },
  {
   "cell_type": "code",
   "execution_count": 67,
   "id": "f15d667d-f85c-4826-8f48-46c6702f0d64",
   "metadata": {},
   "outputs": [
    {
     "name": "stdin",
     "output_type": "stream",
     "text": [
      "Enter the first number:  3\n",
      "Enter the second number:  5\n"
     ]
    },
    {
     "name": "stdout",
     "output_type": "stream",
     "text": [
      "Both numbers are odd.\n"
     ]
    }
   ],
   "source": [
    "# Input two numbers from the user\n",
    "f_number = int(input(\"Enter the first number: \"))\n",
    "s_number = int(input(\"Enter the second number: \"))\n",
    "\n",
    "# Check whether both numbers are even, odd, or one of each using relational and logical operator\n",
    "if f_number % 2 == 0 and s_number % 2 == 0: #In this line check first number \n",
    "    print(\"Both numbers are even.\")\n",
    "elif f_number % 2 != 0 and s_number % 2 != 0:#In this line check second number\n",
    "    print(\"Both numbers are odd.\")\n",
    "else:\n",
    "    print(\"One number is even and the other is odd.\")\n"
   ]
  },
  {
   "cell_type": "markdown",
   "id": "363ee391-d846-43d6-b54d-b6c8b1d891a4",
   "metadata": {},
   "source": [
    "### For Loop and Bitwise Operators"
   ]
  },
  {
   "cell_type": "markdown",
   "id": "3d67059b-f748-4173-967e-b3334feed66c",
   "metadata": {},
   "source": [
    "Write a Python program that takes an integer input and prints its binary, octal, and hexadecimal equivalents using a for loop and bitwise operators."
   ]
  },
  {
   "cell_type": "code",
   "execution_count": 74,
   "id": "fc292ad8-ae10-4502-8880-45107a45d9aa",
   "metadata": {},
   "outputs": [
    {
     "name": "stdin",
     "output_type": "stream",
     "text": [
      "Enter an integer:  34\n"
     ]
    },
    {
     "name": "stdout",
     "output_type": "stream",
     "text": [
      "Binary: 100010\n",
      "Octal: 10\n",
      "Hexadecimal: 11\n"
     ]
    }
   ],
   "source": [
    "# Function to convert a number to binary, octal, and hexadecimal using bitwise operations\n",
    "def convert_number(num):\n",
    "    # Binary conversion of number\n",
    "    binary = ''\n",
    "    for i in range(num.bit_length(), -1, -1):\n",
    "        binary += '1' if (num >> i) & 1 else '0'\n",
    "    binary = binary.lstrip('0') or '0'  # Remove leading zeros\n",
    "\n",
    "    # Octal conversion of number\n",
    "    octal = ''\n",
    "    for i in range(num.bit_length() - 1, -1, -3):  # Group by 3 bits for octal\n",
    "        octal_digit = (num >> i) & 7  # Extract 3 bits at a time\n",
    "        octal += str(octal_digit)\n",
    "    octal = octal.lstrip('0') or '0'  # Remove leading zeros\n",
    "\n",
    "    # Hexadecimal conversion of number\n",
    "    hex_digits = \"0123456789ABCDEF\"\n",
    "    hexadecimal = ''\n",
    "    for i in range(num.bit_length() - 1, -1, -4):  # Group by 4 bits for hexadecimal\n",
    "        hex_digit = (num >> i) & 15  # Extract 4 bits at a time\n",
    "        hexadecimal += hex_digits[hex_digit]\n",
    "    hexadecimal = hexadecimal.lstrip('0') or '0'  # Remove leading zeros\n",
    "\n",
    "    print(f\"Binary: {binary}\")\n",
    "    print(f\"Octal: {octal}\")\n",
    "    print(f\"Hexadecimal: {hexadecimal}\")\n",
    "\n",
    "# Take integer input from the user\n",
    "number = int(input(\"Enter an integer: \"))\n",
    "convert_number(number)"
   ]
  },
  {
   "cell_type": "code",
   "execution_count": null,
   "id": "0f0e6337-4e15-406e-912b-2a5de4e46aaf",
   "metadata": {},
   "outputs": [],
   "source": []
  }
 ],
 "metadata": {
  "kernelspec": {
   "display_name": "Python 3 (ipykernel)",
   "language": "python",
   "name": "python3"
  },
  "language_info": {
   "codemirror_mode": {
    "name": "ipython",
    "version": 3
   },
   "file_extension": ".py",
   "mimetype": "text/x-python",
   "name": "python",
   "nbconvert_exporter": "python",
   "pygments_lexer": "ipython3",
   "version": "3.12.4"
  }
 },
 "nbformat": 4,
 "nbformat_minor": 5
}
