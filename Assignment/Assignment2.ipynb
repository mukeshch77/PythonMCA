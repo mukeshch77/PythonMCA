{
 "cells": [
  {
   "cell_type": "markdown",
   "id": "1d6e88bf-e8dc-43ee-8d4f-d052a6a79e14",
   "metadata": {},
   "source": [
    "## Python Assignment 2"
   ]
  },
  {
   "cell_type": "markdown",
   "id": "dbd8eb00-a787-41ff-86b8-548ca5f8490d",
   "metadata": {},
   "source": [
    "### 1 Basic Function Implementation:\n"
   ]
  },
  {
   "cell_type": "markdown",
   "id": "96e1c78a-301e-4496-9904-042331f3ddbb",
   "metadata": {},
   "source": [
    "##### Q: Write a function greet that takes two arguments: name (a string) and greeting (a string with a default value of \"Hello\"). The function should return a greeting message."
   ]
  },
  {
   "cell_type": "code",
   "execution_count": 22,
   "id": "023846e4-c5f3-4b11-a97f-f7d4af713258",
   "metadata": {},
   "outputs": [
    {
     "name": "stdout",
     "output_type": "stream",
     "text": [
      "Hello, Mukesh!\n",
      "Hi, Choudhay Jii!\n"
     ]
    }
   ],
   "source": [
    "def greet(name, greeting=\"Hello\"): \n",
    "    return f\"{greeting}, {name}!\"\n",
    "\n",
    "\n",
    "print(greet(\"Mukesh\"))          \n",
    "print(greet(\"Choudhay Jii\", \"Hi\"))     \n"
   ]
  },
  {
   "cell_type": "markdown",
   "id": "2f175344-23d2-46ca-ae1c-123d3cee37b8",
   "metadata": {},
   "source": [
    "### 2 Named Arguments:"
   ]
  },
  {
   "cell_type": "markdown",
   "id": "8986c3f7-cf9a-412e-8575-08b20ae0795c",
   "metadata": {},
   "source": [
    "#### Q: Create a function create_profile that takes arguments for name, age, and city as named arguments. The function should return a string like \"Name: Alice, Age: 25, City: New York\". Ensure that the age argument has a default value of 18."
   ]
  },
  {
   "cell_type": "code",
   "execution_count": 11,
   "id": "14ca69c0-2481-4583-ab8c-e12a004bcdef",
   "metadata": {},
   "outputs": [
    {
     "name": "stdout",
     "output_type": "stream",
     "text": [
      "Name: Mukesh, Age: 18, City: Jaipur\n",
      "Name: Choudhary Jii, Age: 25, City: Kota\n"
     ]
    }
   ],
   "source": [
    "def create_profile(*, name, age=18, city): \n",
    "    return f\"Name: {name}, Age: {age}, City: {city}\"\n",
    "\n",
    "print(create_profile(name=\"Mukesh\", city=\"Jaipur\"))      \n",
    "print(create_profile(name=\"Choudhary Jii\", age=25, city=\"Kota\")) \n"
   ]
  },
  {
   "cell_type": "markdown",
   "id": "c4a6f4a3-b893-4be3-a6cf-3d6c17a60ec3",
   "metadata": {},
   "source": [
    "### 3 **Using *args and kwargs:"
   ]
  },
  {
   "cell_type": "markdown",
   "id": "755220a4-31ab-4180-9e44-791b03e284a6",
   "metadata": {},
   "source": [
    "#### Q: Write a function sum_numbers that takes any number of positional arguments (args) and keyword arguments (*kwargs). It should:\n",
    "\n",
    "##### Return the sum of all *args if they are numbers.\n",
    "\n",
    "##### Return a dictionary of all keyword arguments."
   ]
  },
  {
   "cell_type": "code",
   "execution_count": 12,
   "id": "856a6ed7-63e1-49bb-aa9a-a29413e722bc",
   "metadata": {},
   "outputs": [
    {
     "name": "stdout",
     "output_type": "stream",
     "text": [
      "9\n",
      "(10, {'x': 4, 'y': 5})\n"
     ]
    }
   ],
   "source": [
    "def sum_numbers(*args, **kwargs):\n",
    "    # Sum positional arguments that are numbers\n",
    "    total = sum(arg for arg in args if isinstance(arg, (int, float)))\n",
    "    \n",
    "    # If there are keyword args, return both the sum and the kwargs dictionary\n",
    "    if kwargs:\n",
    "        return total, kwargs\n",
    "    # If there are no any keyword args, return just the sum\n",
    "    return total\n",
    "\n",
    "print(sum_numbers(1, 3, 5))  \n",
    "print(sum_numbers(1, 3, 6, x=4, y=5))  "
   ]
  },
  {
   "cell_type": "markdown",
   "id": "4f4e10d5-2249-4aed-a70e-9cab53761062",
   "metadata": {},
   "source": [
    "### 4 Lambdas and Map:"
   ]
  },
  {
   "cell_type": "markdown",
   "id": "4ef30e22-6155-44ee-b33d-f515badf5240",
   "metadata": {},
   "source": [
    "#### Q: Write a function that uses map and a lambda to return a list where each element is squared."
   ]
  },
  {
   "cell_type": "code",
   "execution_count": 14,
   "id": "c1bde337-22a6-4457-8937-b14f4cb3c264",
   "metadata": {},
   "outputs": [
    {
     "name": "stdout",
     "output_type": "stream",
     "text": [
      "[1, 9, 25, 64]\n"
     ]
    }
   ],
   "source": [
    "def square_list(numbers): \n",
    "    return list(map(lambda x: x ** 2, numbers))\n",
    "\n",
    "print(square_list([1, 3, 5, 8]))  "
   ]
  },
  {
   "cell_type": "markdown",
   "id": "7b7c9d65-409b-4d63-94a3-6eedffc7baae",
   "metadata": {},
   "source": [
    "### 5 Filter and Lambdas:"
   ]
  },
  {
   "cell_type": "markdown",
   "id": "e522c3ee-1c17-49a4-9166-1e54348b3d6a",
   "metadata": {},
   "source": [
    "#### Write a function that filters out all odd numbers from a list using filter and a lambda function."
   ]
  },
  {
   "cell_type": "code",
   "execution_count": 15,
   "id": "98b1e170-b054-4cb8-bbce-6d0ba5b477bc",
   "metadata": {},
   "outputs": [
    {
     "name": "stdout",
     "output_type": "stream",
     "text": [
      "[2, 6, 8]\n"
     ]
    }
   ],
   "source": [
    "def filter_odd_numbers(numbers):  \n",
    "    return list(filter(lambda x: x % 2 == 0, numbers))\n",
    "\n",
    "print(filter_odd_numbers([1, 2, 3, 6, 7, 8, 9]))  "
   ]
  },
  {
   "cell_type": "markdown",
   "id": "f0c211d0-fde1-4b32-9325-bd2a0325f987",
   "metadata": {},
   "source": [
    "### 6 Basic List Comprehension:"
   ]
  },
  {
   "cell_type": "markdown",
   "id": "c8a05508-7fe9-4aa9-9f32-de2650e34521",
   "metadata": {},
   "source": [
    "#### Q: Create a list comprehension that takes a list of numbers and returns a list of their squares."
   ]
  },
  {
   "cell_type": "code",
   "execution_count": 16,
   "id": "391abe2f-8203-453f-8763-150521069422",
   "metadata": {},
   "outputs": [
    {
     "name": "stdout",
     "output_type": "stream",
     "text": [
      "[1, 4, 16, 36, 49]\n"
     ]
    }
   ],
   "source": [
    "def square_list(numbers): \n",
    "    return [x**2 for x in numbers]\n",
    "\n",
    "print(square_list([1, 2, 4, 6, 7]))  "
   ]
  },
  {
   "cell_type": "markdown",
   "id": "c502749b-7cd8-4c81-89ce-8cbc40c17a21",
   "metadata": {},
   "source": [
    "### 7 List Comprehension with Condition:"
   ]
  },
  {
   "cell_type": "markdown",
   "id": "35e0cf59-559b-4084-bba0-5278558fb9fc",
   "metadata": {},
   "source": [
    "#### Q: Use a list comprehension to create a list of even numbers from 1 to 20."
   ]
  },
  {
   "cell_type": "code",
   "execution_count": 18,
   "id": "adddf24e-6baa-4a45-b46f-17555bfd0376",
   "metadata": {},
   "outputs": [
    {
     "name": "stdout",
     "output_type": "stream",
     "text": [
      "[2, 4, 6, 8, 10, 12, 14, 16, 18, 20]\n"
     ]
    }
   ],
   "source": [
    "even_numbers = [x for x in range(1, 21) if x % 2 == 0]\n",
    "\n",
    "print(even_numbers)"
   ]
  },
  {
   "cell_type": "markdown",
   "id": "f55bc22d-fe38-4b26-aef1-7cedef77e300",
   "metadata": {},
   "source": [
    "### 8 Using os and time Modules:"
   ]
  },
  {
   "cell_type": "markdown",
   "id": "954cd89e-f2de-43df-ab27-d912d6fd09d1",
   "metadata": {},
   "source": [
    "#### Q: Write a function file_operations that creates a directory named \"test_folder\" using os.makedirs(). Then, pause the execution for 3 seconds using time.sleep(), and finally, delete the directory using os.rmdir()."
   ]
  },
  {
   "cell_type": "code",
   "execution_count": 19,
   "id": "9f801f9b-97a1-44af-928b-3b5a4547ae7c",
   "metadata": {},
   "outputs": [
    {
     "name": "stdout",
     "output_type": "stream",
     "text": [
      "Directory 'test_folder' created.\n",
      "Paused for 3 seconds.\n",
      "Directory 'test_folder' deleted.\n"
     ]
    }
   ],
   "source": [
    "import os\n",
    "import time\n",
    "\n",
    "def file_operations():\n",
    "    # Create the directory \"test_folder\" using os.makedirs() \n",
    "    os.makedirs(\"test_folder\", exist_ok=True)\n",
    "    print(\"Directory 'test_folder' created.\")\n",
    "\n",
    "    # Pause the execution for 3 seconds using time.sleep() \n",
    "    time.sleep(3)\n",
    "    print(\"Paused for 3 seconds.\")\n",
    "\n",
    "    # Delete the directory \"test_folder\" using os.rmdir()\n",
    "    os.rmdir(\"test_folder\")\n",
    "    print(\"Directory 'test_folder' deleted.\")\n",
    "\n",
    "file_operations()  # function call"
   ]
  },
  {
   "cell_type": "markdown",
   "id": "ea88e486-bf31-41cd-80d6-00ab4cb07491",
   "metadata": {},
   "source": [
    "### 9 Importing Specific Functions:"
   ]
  },
  {
   "cell_type": "markdown",
   "id": "1d620f0a-c395-4d4c-a4ac-bac6d0135c9b",
   "metadata": {},
   "source": [
    "#### Q: Write a Python script that imports only sleep from the time module and renames it to pause. Use it to pause execution for 2 seconds and print \"Paused execution...\"."
   ]
  },
  {
   "cell_type": "code",
   "execution_count": 20,
   "id": "7da2c2a1-8eda-4d55-a0a4-79072a28fd3b",
   "metadata": {},
   "outputs": [
    {
     "name": "stdout",
     "output_type": "stream",
     "text": [
      "Paused execution...\n"
     ]
    }
   ],
   "source": [
    "from time import sleep as pause\n",
    "\n",
    "# Pause execution for 2 seconds\n",
    "pause(2)\n",
    "\n",
    "# Print message\n",
    "print(\"Paused execution...\")"
   ]
  },
  {
   "cell_type": "markdown",
   "id": "ae5f6554-1a69-40c5-8e1a-e1f191fb629c",
   "metadata": {},
   "source": [
    "### 10 **Recursive Function with *args and kwargs (Flattening a List):"
   ]
  },
  {
   "cell_type": "markdown",
   "id": "15edf2d8-df3c-4d67-991d-b0f39cf600d4",
   "metadata": {},
   "source": [
    "#### Write a recursive function flatten_list that can flatten a nested list of any depth using *args and **kwargs."
   ]
  },
  {
   "cell_type": "markdown",
   "id": "4cae21d8-41eb-42ce-8f22-68829e6f0155",
   "metadata": {},
   "source": [
    "#### Flattening a list means converting a nested list into a single-level list. If the list contains sub-lists, we recursively traverse them and extract their elements to form one flat list"
   ]
  },
  {
   "cell_type": "code",
   "execution_count": 21,
   "id": "54e98336-0830-4f38-9c4e-79230dc12005",
   "metadata": {},
   "outputs": [
    {
     "name": "stdout",
     "output_type": "stream",
     "text": [
      "[1, 3, 4, 5, 7, 8, 12]\n"
     ]
    }
   ],
   "source": [
    "def flatten_list(nested_list):\n",
    "    # Initialize the list\n",
    "    flat_list = []  \n",
    "    \n",
    "    for item in nested_list:  # Iterate over each item in the nested list\n",
    "        if isinstance(item, list):  # Check is the item in a list\n",
    "            flat_list.extend(flatten_list(item))  # Recursively flatten the list and extend flat_list\n",
    "        else:\n",
    "            flat_list.append(item)  # If it's not a list, append the item\n",
    "    \n",
    "    # Return the flattened list\n",
    "    return flat_list  \n",
    "\n",
    "nested = [1, [3, 4], [5, [7, 8]], 12]\n",
    "flat = flatten_list(nested)\n",
    "print(flat)  \n"
   ]
  }
 ],
 "metadata": {
  "kernelspec": {
   "display_name": "Python 3 (ipykernel)",
   "language": "python",
   "name": "python3"
  },
  "language_info": {
   "codemirror_mode": {
    "name": "ipython",
    "version": 3
   },
   "file_extension": ".py",
   "mimetype": "text/x-python",
   "name": "python",
   "nbconvert_exporter": "python",
   "pygments_lexer": "ipython3",
   "version": "3.12.6"
  }
 },
 "nbformat": 4,
 "nbformat_minor": 5
}
